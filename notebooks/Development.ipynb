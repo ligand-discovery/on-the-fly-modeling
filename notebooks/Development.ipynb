{
 "cells": [
  {
   "cell_type": "code",
   "execution_count": 1,
   "metadata": {},
   "outputs": [
    {
     "name": "stderr",
     "output_type": "stream",
     "text": [
      "/Users/mduranfrigola/miniconda3/envs/onthefly/lib/python3.10/site-packages/sklearn/base.py:318: UserWarning: Trying to unpickle estimator VarianceThreshold from version 0.23.2 when using version 1.2.2. This might lead to breaking code or invalid results. Use at your own risk. For more info please refer to:\n",
      "https://scikit-learn.org/stable/model_persistence.html#security-maintainability-limitations\n",
      "  warnings.warn(\n"
     ]
    },
    {
     "name": "stdout",
     "output_type": "stream",
     "text": [
      "Loading model that can be used for inference only\n",
      "Using a Transformer with 25.82 M parameters\n"
     ]
    },
    {
     "ename": "FileNotFoundError",
     "evalue": "[Errno 2] No such file or directory: '../graph_proteins.joblib'",
     "output_type": "error",
     "traceback": [
      "\u001b[0;31m---------------------------------------------------------------------------\u001b[0m",
      "\u001b[0;31mFileNotFoundError\u001b[0m                         Traceback (most recent call last)",
      "Cell \u001b[0;32mIn[1], line 17\u001b[0m\n\u001b[1;32m     15\u001b[0m hits, fid_prom, pid_prom \u001b[38;5;241m=\u001b[39m joblib\u001b[38;5;241m.\u001b[39mload(os\u001b[38;5;241m.\u001b[39mpath\u001b[38;5;241m.\u001b[39mjoin(\u001b[38;5;124m\"\u001b[39m\u001b[38;5;124m..\u001b[39m\u001b[38;5;124m\"\u001b[39m, \u001b[38;5;124m\"\u001b[39m\u001b[38;5;124mdata\u001b[39m\u001b[38;5;124m\"\u001b[39m, \u001b[38;5;124m\"\u001b[39m\u001b[38;5;124mhits.joblib\u001b[39m\u001b[38;5;124m\"\u001b[39m))\n\u001b[1;32m     16\u001b[0m fids, _, _ \u001b[38;5;241m=\u001b[39m joblib\u001b[38;5;241m.\u001b[39mload(os\u001b[38;5;241m.\u001b[39mpath\u001b[38;5;241m.\u001b[39mjoin(\u001b[38;5;124m\"\u001b[39m\u001b[38;5;124m..\u001b[39m\u001b[38;5;124m\"\u001b[39m, \u001b[38;5;124m\"\u001b[39m\u001b[38;5;124mdata\u001b[39m\u001b[38;5;124m\"\u001b[39m, \u001b[38;5;124m\"\u001b[39m\u001b[38;5;124mcemm_emb.joblib\u001b[39m\u001b[38;5;124m\"\u001b[39m))\n\u001b[0;32m---> 17\u001b[0m G \u001b[38;5;241m=\u001b[39m \u001b[43mjoblib\u001b[49m\u001b[38;5;241;43m.\u001b[39;49m\u001b[43mload\u001b[49m\u001b[43m(\u001b[49m\u001b[38;5;124;43m\"\u001b[39;49m\u001b[38;5;124;43m../graph_proteins.joblib\u001b[39;49m\u001b[38;5;124;43m\"\u001b[39;49m\u001b[43m)\u001b[49m\n\u001b[1;32m     19\u001b[0m proteome_reference_predictions_file \u001b[38;5;241m=\u001b[39m \u001b[38;5;124m\"\u001b[39m\u001b[38;5;124m../data/proteome_reference_predictions_07.joblib\u001b[39m\u001b[38;5;124m\"\u001b[39m\n\u001b[1;32m     20\u001b[0m proteome_reference_predictions \u001b[38;5;241m=\u001b[39m joblib\u001b[38;5;241m.\u001b[39mload(proteome_reference_predictions_file)\n",
      "File \u001b[0;32m~/miniconda3/envs/onthefly/lib/python3.10/site-packages/joblib/numpy_pickle.py:650\u001b[0m, in \u001b[0;36mload\u001b[0;34m(filename, mmap_mode)\u001b[0m\n\u001b[1;32m    648\u001b[0m         obj \u001b[38;5;241m=\u001b[39m _unpickle(fobj)\n\u001b[1;32m    649\u001b[0m \u001b[38;5;28;01melse\u001b[39;00m:\n\u001b[0;32m--> 650\u001b[0m     \u001b[38;5;28;01mwith\u001b[39;00m \u001b[38;5;28;43mopen\u001b[39;49m\u001b[43m(\u001b[49m\u001b[43mfilename\u001b[49m\u001b[43m,\u001b[49m\u001b[43m \u001b[49m\u001b[38;5;124;43m'\u001b[39;49m\u001b[38;5;124;43mrb\u001b[39;49m\u001b[38;5;124;43m'\u001b[39;49m\u001b[43m)\u001b[49m \u001b[38;5;28;01mas\u001b[39;00m f:\n\u001b[1;32m    651\u001b[0m         \u001b[38;5;28;01mwith\u001b[39;00m _read_fileobject(f, filename, mmap_mode) \u001b[38;5;28;01mas\u001b[39;00m fobj:\n\u001b[1;32m    652\u001b[0m             \u001b[38;5;28;01mif\u001b[39;00m \u001b[38;5;28misinstance\u001b[39m(fobj, \u001b[38;5;28mstr\u001b[39m):\n\u001b[1;32m    653\u001b[0m                 \u001b[38;5;66;03m# if the returned file object is a string, this means we\u001b[39;00m\n\u001b[1;32m    654\u001b[0m                 \u001b[38;5;66;03m# try to load a pickle file generated with an version of\u001b[39;00m\n\u001b[1;32m    655\u001b[0m                 \u001b[38;5;66;03m# Joblib so we load it with joblib compatibility function.\u001b[39;00m\n",
      "\u001b[0;31mFileNotFoundError\u001b[0m: [Errno 2] No such file or directory: '../graph_proteins.joblib'"
     ]
    }
   ],
   "source": [
    "import joblib\n",
    "from scipy.stats import rankdata\n",
    "from scipy.interpolate import UnivariateSpline\n",
    "import pandas as pd\n",
    "import os\n",
    "from tqdm import tqdm\n",
    "import numpy as np\n",
    "from scipy.stats import pearsonr\n",
    "import sys\n",
    "import matplotlib.pyplot as plt\n",
    "\n",
    "sys.path.append(\"../src\")\n",
    "from model import (\n",
    "    OnTheFlyModel,\n",
    "    precalc_embeddings_reference,\n",
    "    precalc_embeddings,\n",
    "    HitSelectorByOverlap,\n",
    ")\n",
    "\n",
    "hits, fid_prom, pid_prom = joblib.load(os.path.join(\"..\", \"data\", \"hits.joblib\"))\n",
    "fids, _, _ = joblib.load(os.path.join(\"..\", \"data\", \"cemm_emb.joblib\"))\n",
    "G = joblib.load(\"../graph_proteins.joblib\")\n",
    "\n",
    "proteome_reference_predictions_file = \"../data/proteome_reference_predictions_07.joblib\"\n",
    "proteome_reference_predictions = joblib.load(proteome_reference_predictions_file)\n",
    "\n",
    "uniprot_acs = [n for n in G.nodes()]\n",
    "\n",
    "\n",
    "model = OnTheFlyModel()\n",
    "\n",
    "\n",
    "def task_evaluator(\n",
    "    model, uniprot_acs, tfidf, max_hit_fragments, max_fragment_promicuity, do_auroc=True\n",
    "):\n",
    "    data = HitSelectorByOverlap(uniprot_acs, tfidf=tfidf).select(\n",
    "        max_hit_fragments=max_hit_fragments,\n",
    "        max_fragment_promiscuity=max_fragment_promicuity,\n",
    "    )\n",
    "    model.baseline_classifier.fit(precalc_embeddings, data[\"y\"])\n",
    "    y_hat_ref = np.array(\n",
    "        model.baseline_classifier.predict_proba(precalc_embeddings_reference)[:, 1]\n",
    "    )\n",
    "    rho = np.nanmean(\n",
    "        [\n",
    "            pearsonr(y_hat_ref, proteome_reference_predictions[:, j])[0]\n",
    "            for j in range(proteome_reference_predictions.shape[1])\n",
    "        ]\n",
    "    )\n",
    "    if do_auroc:\n",
    "        auroc = model.estimate_performance(data[\"y\"], baseline=True, n_splits=10)\n",
    "    else:\n",
    "        auroc = (None, None)\n",
    "    prom = np.mean(data[data[\"y\"] == 1][\"prom\"])\n",
    "    hits = np.mean(data[data[\"y\"] == 1][\"hits\"])\n",
    "    result = {\"auroc\": auroc, \"prom\": prom, \"hits\": hits, \"ref_rho\": rho}\n",
    "    return result\n",
    "\n",
    "\n",
    "def screen_max_hit_fragments(model, uniprot_acs, tfidf, max_fragment_promiscuity=500):\n",
    "    cuts = [int(x) for x in np.arange(10, 210, 10)]\n",
    "    aurocs = []\n",
    "    proms = []\n",
    "    hits = []\n",
    "    ref_rhos = []\n",
    "    for n in tqdm(cuts):\n",
    "        results = task_evaluator(\n",
    "            model, uniprot_acs, tfidf, n, max_fragment_promiscuity, do_auroc=False\n",
    "        )\n",
    "        aurocs += [results[\"auroc\"][0]]\n",
    "        proms += [results[\"prom\"]]\n",
    "        hits += [results[\"hits\"]]\n",
    "        ref_rhos += [results[\"ref_rho\"]]\n",
    "    return pd.DataFrame(\n",
    "        {\n",
    "            \"hit_cut\": cuts,\n",
    "            \"auroc\": aurocs,\n",
    "            \"prom\": proms,\n",
    "            \"hits\": hits,\n",
    "            \"ref_rho\": ref_rhos,\n",
    "        }\n",
    "    )\n",
    "\n",
    "\n",
    "data = screen_max_hit_fragments(model, uniprot_acs, tfidf=True)"
   ]
  },
  {
   "cell_type": "code",
   "execution_count": 6,
   "metadata": {},
   "outputs": [],
   "source": [
    "import joblib\n",
    "from scipy.stats import rankdata\n",
    "from scipy.interpolate import UnivariateSpline\n",
    "import pandas as pd\n",
    "import os\n",
    "from tqdm import tqdm\n",
    "import numpy as np\n",
    "from scipy.stats import pearsonr\n",
    "import sys\n",
    "import matplotlib.pyplot as plt\n",
    "\n",
    "sys.path.append(\"../src\")\n",
    "from model import (\n",
    "    OnTheFlyModel,\n",
    "    precalc_embeddings_reference,\n",
    "    precalc_embeddings,\n",
    "    HitSelectorByOverlap,\n",
    ")\n",
    "\n",
    "hits, fid_prom, pid_prom = joblib.load(os.path.join(\"..\", \"data\", \"hits.joblib\"))"
   ]
  },
  {
   "cell_type": "code",
   "execution_count": 7,
   "metadata": {},
   "outputs": [
    {
     "data": {
      "text/html": [
       "<div>\n",
       "<style scoped>\n",
       "    .dataframe tbody tr th:only-of-type {\n",
       "        vertical-align: middle;\n",
       "    }\n",
       "\n",
       "    .dataframe tbody tr th {\n",
       "        vertical-align: top;\n",
       "    }\n",
       "\n",
       "    .dataframe thead th {\n",
       "        text-align: right;\n",
       "    }\n",
       "</style>\n",
       "<table border=\"1\" class=\"dataframe\">\n",
       "  <thead>\n",
       "    <tr style=\"text-align: right;\">\n",
       "      <th></th>\n",
       "      <th>NumberOfFragments</th>\n",
       "      <th>NumberOfProteins</th>\n",
       "    </tr>\n",
       "  </thead>\n",
       "  <tbody>\n",
       "    <tr>\n",
       "      <th>0</th>\n",
       "      <td>1</td>\n",
       "      <td>2667</td>\n",
       "    </tr>\n",
       "    <tr>\n",
       "      <th>1</th>\n",
       "      <td>3</td>\n",
       "      <td>1632</td>\n",
       "    </tr>\n",
       "    <tr>\n",
       "      <th>2</th>\n",
       "      <td>5</td>\n",
       "      <td>1225</td>\n",
       "    </tr>\n",
       "    <tr>\n",
       "      <th>3</th>\n",
       "      <td>10</td>\n",
       "      <td>853</td>\n",
       "    </tr>\n",
       "    <tr>\n",
       "      <th>4</th>\n",
       "      <td>25</td>\n",
       "      <td>504</td>\n",
       "    </tr>\n",
       "    <tr>\n",
       "      <th>5</th>\n",
       "      <td>50</td>\n",
       "      <td>284</td>\n",
       "    </tr>\n",
       "    <tr>\n",
       "      <th>6</th>\n",
       "      <td>100</td>\n",
       "      <td>131</td>\n",
       "    </tr>\n",
       "  </tbody>\n",
       "</table>\n",
       "</div>"
      ],
      "text/plain": [
       "   NumberOfFragments  NumberOfProteins\n",
       "0                  1              2667\n",
       "1                  3              1632\n",
       "2                  5              1225\n",
       "3                 10               853\n",
       "4                 25               504\n",
       "5                 50               284\n",
       "6                100               131"
      ]
     },
     "execution_count": 7,
     "metadata": {},
     "output_type": "execute_result"
    }
   ],
   "source": [
    "R = []\n",
    "for i in [1, 3, 5, 10, 25, 50, 100]:\n",
    "    c = 0\n",
    "    for k, v in pid_prom.items():\n",
    "        if v >= i:\n",
    "            c += 1\n",
    "    R += [[i, c]]\n",
    "\n",
    "pd.DataFrame(R, columns=[\"NumberOfFragments\", \"NumberOfProteins\"])"
   ]
  },
  {
   "cell_type": "code",
   "execution_count": 37,
   "metadata": {},
   "outputs": [
    {
     "data": {
      "text/plain": [
       "<matplotlib.collections.PathCollection at 0x29201d780>"
      ]
     },
     "execution_count": 37,
     "metadata": {},
     "output_type": "execute_result"
    },
    {
     "data": {
      "image/png": "[encoded data removed]",
      "text/plain": [
       "<Figure size 640x480 with 1 Axes>"
      ]
     },
     "metadata": {},
     "output_type": "display_data"
    }
   ],
   "source": [
    "plt.scatter(data[\"hit_cut\"], data[\"hits\"])"
   ]
  },
  {
   "cell_type": "code",
   "execution_count": 29,
   "metadata": {},
   "outputs": [],
   "source": [
    "from scipy.optimize import curve_fit\n",
    "\n",
    "\n",
    "def find_inflection_point(x, y):\n",
    "    def sigmoid(x, k, x0):\n",
    "        y = 1 / (1 + np.exp(-k * (x - x0)))\n",
    "        return y\n",
    "\n",
    "    popt, _ = curve_fit(sigmoid, x, y, p0=[1, np.median(x)])\n",
    "    return popt[1]"
   ]
  },
  {
   "cell_type": "code",
   "execution_count": 30,
   "metadata": {},
   "outputs": [
    {
     "name": "stderr",
     "output_type": "stream",
     "text": [
      "/Users/mduranfrigola/miniconda3/envs/onthefly/lib/python3.10/site-packages/pandas/core/arraylike.py:396: RuntimeWarning: overflow encountered in exp\n",
      "  result = getattr(ufunc, method)(*inputs, **kwargs)\n"
     ]
    },
    {
     "data": {
      "text/plain": [
       "171.5778269723927"
      ]
     },
     "execution_count": 30,
     "metadata": {},
     "output_type": "execute_result"
    }
   ],
   "source": [
    "find_inflection_point(data[\"hit_cut\"], data[\"ref_rho\"])"
   ]
  },
  {
   "cell_type": "code",
   "execution_count": 31,
   "metadata": {},
   "outputs": [
    {
     "data": {
      "text/plain": [
       "[<matplotlib.lines.Line2D at 0x29f3bae30>]"
      ]
     },
     "execution_count": 31,
     "metadata": {},
     "output_type": "execute_result"
    },
    {
     "data": {
      "image/png": "[encoded data removed]",
      "text/plain": [
       "<Figure size 640x480 with 1 Axes>"
      ]
     },
     "metadata": {},
     "output_type": "display_data"
    }
   ],
   "source": [
    "plt.plot(data[\"hit_cut\"], data[\"ref_rho\"])"
   ]
  },
  {
   "cell_type": "code",
   "execution_count": 26,
   "metadata": {},
   "outputs": [],
   "source": [
    "x = np.array([0, 1, 2, 3, 4, 5, 6, 7, 8, 9])\n",
    "y = np.array([0.01, 0.02, 0.04, 0.2, 0.5, 0.8, 0.9, 0.95, 0.97, 0.99])"
   ]
  }
 ],
 "metadata": {
  "kernelspec": {
   "display_name": "onthefly",
   "language": "python",
   "name": "python3"
  },
  "language_info": {
   "codemirror_mode": {
    "name": "ipython",
    "version": 3
   },
   "file_extension": ".py",
   "mimetype": "text/x-python",
   "name": "python",
   "nbconvert_exporter": "python",
   "pygments_lexer": "ipython3",
   "version": "3.10.13"
  }
 },
 "nbformat": 4,
 "nbformat_minor": 2
}
