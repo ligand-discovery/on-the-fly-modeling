{
 "cells": [
  {
   "cell_type": "code",
   "execution_count": 2,
   "metadata": {},
   "outputs": [],
   "source": [
    "import pandas as pd\n",
    "import collections\n",
    "\n",
    "df = pd.read_csv(\"../data/experimental/validation.tsv\", sep=\"\\t\")\n",
    "\n",
    "df = df[df[\"Number_of_Protein_Unique_Peptides\"] >= 2]\n",
    "df = df[df[\"Abundance_Ratio_log2\"] > 2.3]\n",
    "df = df[df[\"Abundance_Ratio_log2_median_corr\"] > 1]\n",
    "df = df[df[\"Abundance_Ratio_PValue\"] < 0.05]\n",
    "df = df[df[\"Abundance_Ratio_Adj_PValue\"] < 0.25]\n",
    "df = df[df[\"Rank_relative\"] < 500]\n",
    "\n",
    "slcs = []\n",
    "with open(\"../data/examples/slc_cemm_interest.txt\", \"r\") as f:\n",
    "    for l in f:\n",
    "        slcs += [l.rstrip()]\n",
    "\n",
    "fid2smi = {}\n",
    "for r in pd.read_csv(\"../data/experimental/validation_fid2smi.tsv\", sep=\",\").values:\n",
    "    fid2smi[r[0]] = r[1]\n",
    "\n",
    "fid2pid = collections.defaultdict(list)\n",
    "for r in df[[\"FragID\", \"Accession\"]].values:\n",
    "    fid2pid[r[0]] += [r[1]]"
   ]
  },
  {
   "cell_type": "code",
   "execution_count": 3,
   "metadata": {},
   "outputs": [],
   "source": [
    "R = []\n",
    "for k,v in fid2pid.items():\n",
    "    v = set(v)\n",
    "    s = v.intersection(slcs)\n",
    "    r = (k, fid2smi[k], len(v), len(s), \"; \".join(sorted(s)))\n",
    "    R += [r]\n",
    "\n",
    "dr = pd.DataFrame(R, columns=[\"fid\", \"smiles\", \"num_prot\", \"num_slc\", \"slc\"])\n",
    "dr.to_csv(\"../data/experimental/validation_hits_with_slc.tsv\", sep=\"\\t\", index=False)"
   ]
  }
 ],
 "metadata": {
  "kernelspec": {
   "display_name": "bdfigs",
   "language": "python",
   "name": "python3"
  },
  "language_info": {
   "codemirror_mode": {
    "name": "ipython",
    "version": 3
   },
   "file_extension": ".py",
   "mimetype": "text/x-python",
   "name": "python",
   "nbconvert_exporter": "python",
   "pygments_lexer": "ipython3",
   "version": "3.10.10"
  }
 },
 "nbformat": 4,
 "nbformat_minor": 2
}
