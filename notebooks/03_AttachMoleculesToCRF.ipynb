{
 "cells": [
  {
   "cell_type": "code",
   "execution_count": 5,
   "metadata": {},
   "outputs": [],
   "source": [
    "from rdkit import Chem\n",
    "from CombineMols.CombineMols import CombineMols\n",
    "import os"
   ]
  },
  {
   "cell_type": "code",
   "execution_count": 6,
   "metadata": {},
   "outputs": [],
   "source": [
    "CRF_PATTERN = \"CC1(CCC#C)N=N1\"\n",
    "CRF_PATTERN_0 = \"C#CC\"\n",
    "CRF_PATTERN_1 = \"N=N\"\n",
    "\n",
    "crf_0 = \"C#CCC1(N=N1)CCNC(CC)=O\"\n",
    "crf_0 = \"ONC(=O)CCC1(CCC#C)N=N1\"\n",
    "crf_1 = \"C#CCC1(N=N1)CCC(=O)[N]\"\n",
    "\n",
    "crf_0 = Chem.MolFromSmiles(crf_0)\n",
    "crf_1 = Chem.MolFromSmiles(crf_1)"
   ]
  },
  {
   "cell_type": "code",
   "execution_count": 7,
   "metadata": {},
   "outputs": [],
   "source": [
    "def has_crf(mol):\n",
    "    pattern = CRF_PATTERN\n",
    "    has_pattern = mol.HasSubstructMatch(Chem.MolFromSmarts(pattern))\n",
    "    if not has_pattern:\n",
    "        if mol.HasSubstructMatch(\n",
    "            Chem.MolFromSmarts(CRF_PATTERN_0)\n",
    "        ) and mol.HasSubstructMatch(Chem.MolFromSmarts(CRF_PATTERN_1)):\n",
    "            return True\n",
    "        else:\n",
    "            return False\n",
    "    return True"
   ]
  },
  {
   "cell_type": "code",
   "execution_count": 8,
   "metadata": {},
   "outputs": [],
   "source": [
    "def attach_crf(smiles):\n",
    "    mol = Chem.MolFromSmiles(smiles)\n",
    "    combined_mol_0 = CombineMols(mol, crf_0, \"O\")\n",
    "    # combined_mol_1 = CombineMols(mol, crf_1, \"N\")\n",
    "    combined_mol_1 = []\n",
    "    combined_mol = combined_mol_0 + combined_mol_1\n",
    "    result = []\n",
    "    for cm in combined_mol:\n",
    "        smi = Chem.MolToSmiles(cm)\n",
    "        if \".\" in smi:\n",
    "            continue\n",
    "        mol = Chem.MolFromSmiles(smi)\n",
    "        if mol is None:\n",
    "            continue\n",
    "        if not has_crf(mol):\n",
    "            continue\n",
    "        result += [Chem.MolToSmiles(mol)]\n",
    "    return result\n",
    "\n",
    "\n",
    "cases = attach_crf(\n",
    "    \"CC1(C)CC(OC(=O)CN2CN(c3ccccc3)C3(CCN(C(=O)c4ccc(C5CCCCC5)cc4)CC3)C2=O)CC(C)(C)N1\"\n",
    ")"
   ]
  },
  {
   "cell_type": "markdown",
   "metadata": {},
   "source": [
    "## Background ChEMBL"
   ]
  },
  {
   "cell_type": "code",
   "execution_count": 14,
   "metadata": {},
   "outputs": [
    {
     "name": "stderr",
     "output_type": "stream",
     "text": [
      "100%|██████████| 20000/20000 [1:59:29<00:00,  2.79it/s]   \n",
      "100%|██████████| 20000/20000 [2:04:17<00:00,  2.68it/s]     \n",
      "100%|██████████| 20000/20000 [1:53:50<00:00,  2.93it/s]   \n"
     ]
    }
   ],
   "source": [
    "import pandas as pd\n",
    "from tqdm import tqdm\n",
    "\n",
    "\n",
    "def attach_crf_to_chembl_smiles(idx):\n",
    "    with open(\"../data/chembl33_sample_20k_{0}.smi\".format(idx), \"r\") as f:\n",
    "        smiles_list = []\n",
    "        for r in f:\n",
    "            smiles_list += [r.rstrip(os.linesep)]\n",
    "    file_name = \"../data/chembl33_sample_20k_with_crf_{0}.csv\".format(idx)\n",
    "    R = []\n",
    "    for smi in tqdm(smiles_list):\n",
    "        try:\n",
    "            cases = attach_crf(smi)\n",
    "            if len(cases) == 0:\n",
    "                continue\n",
    "            R += [(smi, \"; \".join(cases))]\n",
    "        except:\n",
    "            continue\n",
    "    d = pd.DataFrame(R, columns=[\"smiles\", \"smiles_with_crf\"])\n",
    "    d.to_csv(file_name, index=False)\n",
    "\n",
    "\n",
    "attach_crf_to_chembl_smiles(0)\n",
    "attach_crf_to_chembl_smiles(1)\n",
    "attach_crf_to_chembl_smiles(2)"
   ]
  },
  {
   "cell_type": "markdown",
   "metadata": {},
   "source": [
    "## GSF Lab"
   ]
  },
  {
   "cell_type": "code",
   "execution_count": 21,
   "metadata": {},
   "outputs": [],
   "source": [
    "import pandas as pd\n",
    "\n",
    "df = pd.read_csv(\"../data/slc_inhibitor_collection_gsf.tsv\", sep=\"\\t\")\n",
    "df = df[df[\"structure\"].notnull()]\n",
    "df = df[df[\"primary_SLC\"].notnull()]"
   ]
  },
  {
   "cell_type": "code",
   "execution_count": 22,
   "metadata": {},
   "outputs": [
    {
     "name": "stderr",
     "output_type": "stream",
     "text": [
      "100%|██████████| 20235/20235 [1:30:20<00:00,  3.73it/s]  \n"
     ]
    }
   ],
   "source": [
    "from tqdm import tqdm\n",
    "\n",
    "R = []\n",
    "for v in tqdm(df[[\"primary_SLC\", \"structure\"]].values):\n",
    "    cases = attach_crf(v[1])\n",
    "    if len(cases) == 0:\n",
    "        continue\n",
    "    r = (v[0], v[1], \"; \".join(cases))\n",
    "    R += [r]\n",
    "\n",
    "dr = pd.DataFrame(R, columns=[\"gene_name\", \"smiles\", \"smiles_with_crf\"])\n",
    "dr.to_csv(\"../data/slc_inhibitor_collection_gsf_with_auto_crf.tsv\", index=False)\n",
    "\n",
    "unique_slcs = sorted(set(dr[\"gene_name\"]))\n",
    "with open(\"../data/examples/slc_from_gsf.txt\", \"w\") as f:\n",
    "    for r in unique_slcs:\n",
    "        f.write(r + os.linesep)"
   ]
  }
 ],
 "metadata": {
  "kernelspec": {
   "display_name": "bdfigs",
   "language": "python",
   "name": "python3"
  },
  "language_info": {
   "codemirror_mode": {
    "name": "ipython",
    "version": 3
   },
   "file_extension": ".py",
   "mimetype": "text/x-python",
   "name": "python",
   "nbconvert_exporter": "python",
   "pygments_lexer": "ipython3",
   "version": "3.10.10"
  },
  "orig_nbformat": 4
 },
 "nbformat": 4,
 "nbformat_minor": 2
}
