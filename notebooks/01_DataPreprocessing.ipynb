{
 "cells": [
  {
   "cell_type": "markdown",
   "metadata": {},
   "source": [
    "# Preparing Data for On The Fly Modeling\n",
    "\n",
    "In this notebook, we prepare data for modeling arbitrary sets of proteins."
   ]
  },
  {
   "cell_type": "code",
   "execution_count": 1,
   "metadata": {},
   "outputs": [],
   "source": [
    "import pandas as pd\n",
    "import os\n",
    "import joblib\n",
    "import numpy as np\n",
    "from fragmentembedding import FragmentEmbedder\n",
    "\n",
    "DATA_PATH = \"../data\""
   ]
  },
  {
   "cell_type": "markdown",
   "metadata": {},
   "source": [
    "## Preprocessing screening data, especially to calculate promiscuity"
   ]
  },
  {
   "cell_type": "code",
   "execution_count": 2,
   "metadata": {},
   "outputs": [
    {
     "data": {
      "text/plain": [
       "['../data/hits.joblib']"
      ]
     },
     "execution_count": 2,
     "metadata": {},
     "output_type": "execute_result"
    }
   ],
   "source": [
    "import collections\n",
    "\n",
    "df = pd.read_csv(os.path.join(DATA_PATH, \"screening_hits.tsv\"), sep=\"\\t\")\n",
    "\n",
    "hits = {}\n",
    "for r in df[[\"accession\", \"fragId\", \"l2fc\"]].values:\n",
    "    hits[(r[0], r[1])] = float(r[2])\n",
    "\n",
    "fid_prom = collections.defaultdict(int)\n",
    "for r in list(df[\"fragId\"]):\n",
    "    fid_prom[r] += 1\n",
    "\n",
    "fid_prom = dict((k, v) for k, v in fid_prom.items())\n",
    "\n",
    "pid_prom = collections.defaultdict(int)\n",
    "for r in list(df[\"accession\"]):\n",
    "    pid_prom[r] += 1\n",
    "\n",
    "pid_prom = dict((k, v) for k, v in pid_prom.items())\n",
    "\n",
    "joblib.dump((hits, fid_prom, pid_prom), os.path.join(DATA_PATH, \"hits.joblib\"))"
   ]
  },
  {
   "cell_type": "markdown",
   "metadata": {},
   "source": [
    "## Embeddings for CeMM fragments"
   ]
  },
  {
   "cell_type": "code",
   "execution_count": 3,
   "metadata": {},
   "outputs": [
    {
     "name": "stderr",
     "output_type": "stream",
     "text": [
      "/Users/mduranfrigola/miniconda3/envs/onthefly/lib/python3.10/site-packages/sklearn/base.py:318: UserWarning: Trying to unpickle estimator VarianceThreshold from version 0.23.2 when using version 1.2.2. This might lead to breaking code or invalid results. Use at your own risk. For more info please refer to:\n",
      "https://scikit-learn.org/stable/model_persistence.html#security-maintainability-limitations\n",
      "  warnings.warn(\n"
     ]
    },
    {
     "name": "stdout",
     "output_type": "stream",
     "text": [
      "['C#CCCC1(CCC(=O)NC2(CCO)CS(=O)(=O)C2)N=N1', 'C#CCCC1(CCC(=O)NC(C(N)=O)c2ccc3ccccc3c2)N=N1', 'C#CCCC1(CCC(=O)Nc2ccc(-c3cn4cccc(C)c4n3)cc2)N=N1', 'C#CCCC1(CCNC(=O)c2cc(=O)[nH]c(C3CCOCC3)n2)N=N1', 'C#CCCC1(CCNC(=O)CC2CS(=O)(=O)c3ccccc3O2)N=N1', 'C#CCCC1(CCNC(=O)c2c[nH]c(C(C)(C)C)n2)N=N1', 'C#CCCC1(CCNC(=O)CC2(C(F)(F)F)CCC(=O)NC2)N=N1', 'C#CCCC1(CCC(=O)Nc2cc(CCc3ccccc3C)n[nH]2)N=N1', 'C#CCCC1(CCNC(=O)c2c(C(F)(F)F)nc3n2CCCC3)N=N1', 'C#CCCC1(CCNC(=O)c2cc(OC)c3c(c2)OCCO3)N=N1', 'C#CCCC1(CCNC(=O)c2ncsc2S(N)(=O)=O)N=N1', 'C#CCCC1(CCNC(=O)c2ccc(S(=O)(=O)c3ccccc3)s2)N=N1', 'C#CCCC1(CCC(=O)NC(Cc2ccccn2)C2COc3ccccc3O2)N=N1', 'C#CCCC1(CCC(=O)Nc2ccc3c(c2)nc(C)n3C2(CO)CCC2)N=N1', 'C#CCCC1(CCC(=O)N2CCCN(S(=O)(=O)c3ccc(Cl)s3)CC2)N=N1', 'C#CCCC1(CCNC(=O)C2=NN(c3ccc(F)cc3)C(C(N)=O)C2)N=N1', 'C#CCCC1(CCC(=O)N2C[C@H]3CN(C)CC[C@@]3(CO)C2)N=N1', 'C#CCCC1(CCC(=O)NCCS(=O)(=O)N2CCOCC2)N=N1', 'C#CCCC1(CCC(=O)N2CCC3(CC2)OCc2ccncc23)N=N1', 'C#CCCC1(CCC(=O)NC2CCc3cccc4cccc2c34)N=N1', 'C#CCCC1(CCC(=O)Nc2cc(C3CC3)nn2C2CCS(=O)(=O)C2)N=N1', 'C#CCCC1(CCNC(=O)Cc2c(Cl)c(CC)nn2C)N=N1', 'C#CCCC1(CCC(=O)N(C)Cc2coc(-c3ccc(C#N)cc3)n2)N=N1', 'C#CCCC1(CCC(=O)N2CCCC(N3C(=O)CC4(CCCC4)C3=O)C2)N=N1', 'C#CCCC1(CCC(=O)N2CCO[C@@H]3CS(=O)(=O)C[C@@H]32)N=N1', 'C#CCCC1(CCC(=O)NC(c2ccn[nH]2)C(F)(F)F)N=N1', 'C#CCCC1(CCNC(=O)C2(c3ccccc3C#N)CCC2)N=N1', 'C#CCCC1(CCC(=O)NCC(c2c(F)cccc2F)N(C)C)N=N1', 'C#CCCC1(CCC(=O)N2C[C@@H](O)[C@H](N3CCOCC3)C2)N=N1', 'C#CCCC1(CCNC(=O)C(C)c2ncccc2F)N=N1', 'C#CCCC1(CCC(=O)NCc2nnc(C(C)(C)C)s2)N=N1', 'C#CCCC1(CCC(=O)NCC(O)(c2ncc(C)o2)C(F)(F)F)N=N1', 'C#CCCC1(CCC(=O)N2CC(CC(N)=O)OC(C)(C)C2)N=N1', 'C#CCCC1(CCNC(=O)C23CCC(N(C)C)(CC2)CC3)N=N1', 'C#CCCC1(CCC(=O)Nc2cccnc2OCc2ccccc2)N=N1', 'C#CCCC1(CCC(=O)NCc2ccccc2S(=O)(=O)NC)N=N1', 'C#CCCC1(CCNC(=O)c2c(CC)nc3ccc(Cl)cn23)N=N1', 'C#CCCC1(CCNC(=O)c2cc(C)n(-c3ncccn3)c2C)N=N1', 'C#CCCC1(CCC(=O)N2CC(C)(c3nnc(C4CCOCC4)o3)C2)N=N1', 'C#CCCC1(CCNC(=O)C2(S(=O)(=O)c3ccc(C)cc3)CCCC2)N=N1', 'C#CCCC1(CCC(=O)NCC2CCC3C(CC2)C3(F)F)N=N1', 'C#CCCC1(CCC(=O)N2CCCCC2c2nnc(CC(F)(F)F)o2)N=N1', 'C#CCCC1(CCNC(=O)C2(COC)CCCNS2(=O)=O)N=N1', 'C#CCCC1(CCNC(=O)CC2=NN(c3cccc(Cl)c3)C(=O)C2)N=N1', 'C#CCCC1(CCNC(=O)c2c3c(nn2C)CCS(=O)(=O)C3)N=N1', 'C#CCCC1(CCNC(=O)Cn2nnnc2-c2ccsc2)N=N1', 'C#CCCC1(CCC(=O)NC2(Cc3ccc(F)c(C)c3)CC2)N=N1', 'C#CCCC1(CCNC(=O)c2cc(S(=O)(=O)CC)c[nH]c2=O)N=N1', 'C#CCCC1(CCC(=O)N2CCc3ccsc3C2c2cscn2)N=N1', 'C#CCCC1(CCNC(=O)C(C)Oc2cc(C)cc3oc(=O)c4c(c23)CCC4)N=N1', 'C#CCCC1(CCNC(=O)Cn2[nH]c(=O)c3ccccc3c2=O)N=N1', 'C#CCCC1(CCC(=O)N2C[C@@H](COC)[C@H](c3cnn(C)c3)C2)N=N1', 'C#CCCC1(CCC(=O)N2CC(C#N)C3(C2)C(=O)Nc2ccccc23)N=N1', 'C#CCCC1(CCC(=O)N2CCS(=O)C(CC)(CC)C2)N=N1', 'C#CCCC1(CCC(=O)N2CCC3CCC32c2cccs2)N=N1', 'C#CCCC1(CCC(=O)NCc2nc([C@H]3CN4CCC[C@H]4CO3)no2)N=N1', 'C#CCCC1(CCC(=O)NCC2CCCN(C)C2c2ccc(OC)cc2)N=N1', 'C#CCCC1(CCC(=O)NCc2cc(O)n3nccc3n2)N=N1', 'C#CCCC1(CCC(=O)NCCn2cnnc2CC)N=N1', 'C#CCCC1(CCNC(=O)CC2CCCC(C(F)(F)F)C2)N=N1', 'C#CCCC1(CCNC(=O)C23CC4(C)CC(C)(CC(O)(C4)C2)C3)N=N1', 'C#CCCC1(CCNC(=O)c2cc(C)n3ncc(C(C)C)c3n2)N=N1', 'C#CCCC1(CCC(=O)NCCc2cnc3ccc(C)cc3c2)N=N1', 'C#CCCC1(CCNC(=O)c2ccccc2Cc2ncn[nH]2)N=N1', 'C#CCCC1(CCNC(=O)C2(Cc3ccc(F)cc3)CCCO2)N=N1', 'C#CCCC1(CCNC(=O)C2COc3ccc(OC)cc3C2)N=N1', 'C#CCCC1(CCC(=O)NC2(C(O)c3ccc(F)cc3)CCCC2)N=N1', 'C#CCCC1(CCC(=O)N2CCC(S(=O)(=O)c3ccc(F)cc3)C2)N=N1', 'C#CCCC1(CCC(=O)N2CCn3c(C(=O)NC(C)C)ccc3C2C)N=N1', 'C#CCCC1(CCC(=O)N(C)C[C@@H]2OCC[C@@H]2c2ncn[nH]2)N=N1', 'C#CCCC1(CCC(=O)N[C@H]2C[C@H](c3cc(F)cc(F)c3)C2)N=N1', 'C#CCCC1(CCC(=O)N2CCS(=O)(=NS(C)(=O)=O)CC2)N=N1', 'C#CCCC1(CCNC(=O)Cc2c(C(F)(F)F)coc2C)N=N1', 'C#CCCC1(CCNC(=O)c2c[nH]nc2-c2cc3ccccc3o2)N=N1', 'C#CCCC1(CCC(=O)Nc2ccc(F)c(N3CCS(=O)(=O)CC3)c2)N=N1', 'C#CCCC1(CCNC(=O)c2ccccc2NC(=O)CC#N)N=N1', 'C#CCCC1(CCC(=O)N2CCCC3(CCCCO3)C2C#N)N=N1', 'C#CCCC1(CCC(=O)NCC2(CO)COCC3COCCN32)N=N1', 'C#CCCC1(CCC(=O)N2CCN(C3(C(N)=O)CCOC3)CC2)N=N1', 'C#CCCC1(CCNC(=O)c2csc3cc(Cl)cnc23)N=N1', 'C#CCCC1(CCNC(=O)c2nc(C3CCN(C)CC3)n[nH]2)N=N1', 'C#CCCC1(CCC(=O)NCc2ccc3c(c2)C(C)C(C)O3)N=N1', 'C#CCCC1(CCC(=O)NCC2(C(F)(F)F)CCCCC2)N=N1', 'C#CCCC1(CCC(=O)NCc2nnc(C3CC3)n2C2CC2)N=N1', 'C#CCCC1(CCNC(=O)c2c(C)nn(CC(F)F)c2C)N=N1', 'C#CCCC1(CCNC(=O)[C@@H]2[C@@H](c3ccncc3Cl)C2(C)C)N=N1', 'C#CCCC1(CCC(=O)N2CCCC(COC(F)(F)F)C2)N=N1', 'C#CCCC1(CCC(=O)N[C@@H]2C[C@H]2c2ccccc2OC(F)F)N=N1', 'C#CCCC1(CCC(=O)NCC(c2nnc3ccc(C)nn23)C(C)C)N=N1', 'C#CCCC1(CCNC(=O)C(O)(c2ccccc2)C(F)(F)F)N=N1', 'C#CCCC1(CCNC(=O)Cc2nc(-c3cccs3)oc2C)N=N1', 'C#CCCC1(CCC(=O)NC2CCN(c3ccc4nncn4n3)C2)N=N1', 'C#CCCC1(CCNC(=O)c2cc(F)cc3nc(C)c(C)nc23)N=N1', 'C#CCCC1(CCNC(=O)CCn2c(C)c(C)sc2=O)N=N1', 'C#CCCC1(CCC(=O)N2CCOCC2c2c(C)nn(CC(F)(F)F)c2C)N=N1', 'C#CCCC1(CCC(=O)N2CCC3(CC2)CC3CN2CCN(C)CC2)N=N1', 'C#CCCC1(CCNC(=O)c2cc3c(cc2Cl)NC(=O)C3)N=N1', 'C#CCCC1(CCC(=O)N2CC(c3nc(O)cc(O)n3)C2)N=N1', 'C#CCCC1(CCC(=O)NC2(c3nc4cc(Cl)ccc4o3)CCC2)N=N1', 'C#CCCC1(CCC(=O)N2CCNC(=O)C2c2ccccc2C(F)(F)F)N=N1', 'C#CCCC1(CCC(=O)N2CCc3ccc(C#N)nc3CC2)N=N1', 'C#CCCC1(CCC(=O)N2CCCCCCNC(=O)C3CCCC32)N=N1', 'C#CCCC1(CCC(=O)Nc2ccc(C3CC(=O)NC(=O)N3)cc2)N=N1', 'C#CCCC1(CCNC(=O)C(O)c2cc(Cl)cc(Cl)c2)N=N1', 'C#CCCC1(CCC(=O)N2CC(NC(=O)NC(C)C)C(OC)C2)N=N1', 'C#CCCC1(CCNC(=O)CCC2CC(C)N(C)C2C)N=N1', 'C#CCCC1(CCNC(=O)c2cccc(N=S3(=O)CCCC3)c2)N=N1', 'C#CCCC1(CCC(=O)N2CCC34CCC(CC23)C4(C)C)N=N1', 'C#CCCC1(CCC(=O)NCc2ncc(OC)c(O)n2)N=N1', 'C#CCCC1(CCNC(=O)Cc2csc(-c3ccoc3)n2)N=N1', 'C#CCCC1(CCC(=O)NCCN2c3ccccc3NS2(=O)=O)N=N1', 'C#CCCC1(CCC(=O)NCc2cc(Oc3ccc(F)cc3)ccn2)N=N1', 'C#CCCC1(CCNC(=O)c2cnn(-c3nc(CC)cs3)c2)N=N1', 'C#CCCC1(CCC(=O)NCCOc2c(C)cccc2C)N=N1', 'C#CCCC1(CCC(=O)NC2CC(N(C)C)C23CCC3)N=N1', 'C#CCCC1(CCC(=O)NCC2CCCC(C(F)(F)F)O2)N=N1', 'C#CCCC1(CCNC(=O)Cn2c(C)nc3cc(F)c(F)cc32)N=N1', 'C#CCCC1(CCNC(=O)CC23CC4CC(C2)CC(n2nnc(C)n2)(C4)C3)N=N1', 'C#CCCC1(CCNC(=O)c2cc(-c3c[nH]c4ccccc34)[nH]n2)N=N1', 'C#CCCC1(CCNC(=O)c2nc(-c3ccccc3)oc2C2CC2)N=N1', 'C#CCCC1(CCC(=O)NCC(F)(F)c2[nH]nc3c2CCCC3)N=N1', 'C#CCCC1(CCNC(=O)c2nc(C(F)(F)F)n3ccccc23)N=N1', 'C#CCCC1(CCC(=O)Nc2cc3c(cc2N2CCCCC2)n(C)c(=O)n3C)N=N1', 'C#CCCC1(CCC(=O)N2Cc3cccnc3N3C[C@H](OCC)C[C@H]3C2)N=N1', 'C#CCCC1(CCC(=O)Nc2cc(S(N)(=O)=O)ccc2-n2cc(C)cn2)N=N1', 'C#CCCC1(CCNC(=O)c2oc(C(C)(C)C)nc2C(F)F)N=N1', 'C#CCCC1(CCC(=O)Nc2ccc(C(F)F)nc2)N=N1', 'C#CCCC1(CCNC(=O)c2cccn2Cc2cccnc2)N=N1', 'C#CCCC1(CCC(=O)N2CCC3(CC2)C(C)=Nc2ccccc23)N=N1', 'C#CCCC1(CCC(=O)N[C@@H]2CC=CC[C@H]2C(F)(F)F)N=N1', 'C#CCCC1(CCC(=O)NC2(CN3CCN(c4ncccn4)CC3)CC2)N=N1', 'C#CCCC1(CCC(=O)N2C[C@@H]3CCCS(=O)(=O)[C@@H]3C2)N=N1', 'C#CCCC1(CCC(=O)Nc2n[nH]c3c2c(-c2ccccc2)nn3C)N=N1', 'C#CCCC1(CCC(=O)NC2(c3ccnc(S(C)(=O)=O)n3)CC2)N=N1', 'C#CCCC1(CCC(=O)Nc2ccccc2-n2ccc(C(N)=O)n2)N=N1', 'C#CCCC1(CCC(=O)NC(C)c2ccc(-c3csc(C)n3)cc2)N=N1', 'C#CCCC1(CCC(=O)N2CC3(CC(O)CNC3=O)C2)N=N1', 'C#CCCC1(CCC(=O)NC2CCS(=O)(=O)C3(C2)CC(C(N)=O)C3)N=N1', 'C#CCCC1(CCC(=O)N2CCP(=O)(c3ccccc3)CC2)N=N1', 'C#CCCC1(CCC(=O)NC23CC(N4CCCCC4=O)(C2)C3)N=N1', 'C#CCCC1(CCNC(=O)c2n[nH]c(C(F)(F)F)c2C(C)C)N=N1', 'C#CCCC1(CCC(=O)Nc2cc(F)ccc2OCc2cnn(C)c2)N=N1', 'C#CCCC1(CCC(=O)N2C[C@@H]3CS(=O)(=O)C[C@@]3(C#N)C2)N=N1', 'C#CCCC1(CCNC(=O)C2(c3cc(C)no3)CCOCC2)N=N1', 'C#CCCC1(CCC(=O)NCC2CCc3nnc(C(F)F)n3C2)N=N1', 'C#CCCC1(CCC(=O)NC2c3cccc(F)c3OC2C)N=N1', 'C#CCCC1(CCC(=O)Nc2ccc3oc(C(F)(F)F)cc(=O)c3c2)N=N1', 'C#CCCC1(CCC(=O)Nc2cnc3c(c2)OCC(=O)N3)N=N1', 'C#CCCC1(CCC(=O)N[C@H]2CCCC[C@H]2Cc2nn(C)c(=O)n2C)N=N1', 'C#CCCC1(CCC(=O)Nc2ccc(C34CC5CC(CC(O)(C5)C3)C4)cc2)N=N1', 'C#CCCC1(CCC(=O)NC[C@]2(S(C)(=O)=O)C[C@@H]2C(F)(F)F)N=N1', 'C#CCCC1(CCC(=O)N(C)C2CS(=O)(=O)C23CCOCC3)N=N1', 'C#CCCC1(CCNC(=O)c2cc(CNS(C)(=O)=O)oc2C)N=N1', 'C#CCCC1(CCC(=O)NC[C@H]2C[C@H](c3n[nH]c(=O)n3C)C[C@H]2O)N=N1', 'C#CCCC1(CCC(=O)Nc2nnc3n(Cc4cccc(OC)c4)[nH]c(C)c2-3)N=N1', 'C#CCCC1(CCNC(=O)c2cccn3c(CC(C)C)nnc23)N=N1', 'C#CCCC1(CCNC(=O)c2c(-c3cn(C)nn3)noc2C(F)F)N=N1', 'C#CCCC1(CCNC(=O)Cc2nc3nccc(-c4ccc(F)cc4)n3n2)N=N1', 'C#CCCC1(CCNC(=O)CCc2nc3cc(Cl)ccc3s2)N=N1', 'C#CCCC1(CCC(=O)N2CCCC(O)(CN(C)C)C2)N=N1', 'C#CCCC1(CCC(=O)NC2CCN(S(=O)(=O)C(C)C)CC2CC)N=N1', 'C#CCCC1(CCC(=O)Nc2cccc3c2oc(=O)n3C)N=N1', 'C#CCCC1(CCNC(=O)c2sccc2NS(C)(=O)=O)N=N1', 'C#CCCC1(CCC(=O)N2Cc3cnn(-c4ccccc4)c3C2)N=N1', 'C#CCCC1(CCC(=O)NCC2CC3(CC3)S(=O)(=O)N2)N=N1', 'C#CCCC1(CCC(=O)N(C)Cc2cnc(-n3cccn3)s2)N=N1', 'C#CCCC1(CCC(=O)NC(C)c2nnc(-c3ccccc3F)s2)N=N1', 'C#CCCC1(CCC(=O)N2CCC(n3nnc4c(=O)[nH][nH]c(=O)c43)CC2)N=N1', 'C#CCCC1(CCC(=O)Nc2ccc(F)c(NC(=O)Cn3cncn3)c2)N=N1', 'C#CCCC1(CCC(=O)N2C[C@H]3CCO[C@H]3CC(C)(C)C2)N=N1', 'C#CCCC1(CCNC(=O)c2cc(=O)[nH]c3nn(CC)c(C4CC4)c23)N=N1', 'C#CCCC1(CCC(=O)N2CCC3(CC2)CCC(F)(F)C3)N=N1', 'C#CCCC1(CCC(=O)Nc2ccc(N3N=C(COC)CC3=O)nc2)N=N1', 'C#CCCC1(CCC(=O)N2C3CCC2CC(N2CCCS2(=O)=O)C3)N=N1', 'C#CCCC1(CCNC(=O)C2CCC3NC(=O)C(C)(C)C3C2)N=N1', 'C#CCCC1(CCC(=O)NC[C@@H]2COC[C@H]2n2cc(CO)nn2)N=N1', 'C#CCCC1(CCNC(=O)C2CC(C)Cc3cn[nH]c32)N=N1', 'C#CCCC1(CCNC(=O)c2cc3n(n2)CCNS3(=O)=O)N=N1', 'C#CCCC1(CCNC(=O)c2ccc3c(c2)C(=O)N(c2ccc(F)cc2)C3=O)N=N1', 'C#CCCC1(CCC(=O)N2CC[C@@H]3[C@H](C2)NC(=O)N3CCOC)N=N1', 'C#CCCC1(CCC(=O)N2CCc3ccc(Cl)c(Cl)c3C2)N=N1', 'C#CCCC1(CCC(=O)NC(CC)c2nc(C)n[nH]2)N=N1', 'C#CCCC1(CCC(=O)N2C3CCC2CC(O)(Cc2ccccc2)C3)N=N1', 'C#CCCC1(CCC(=O)N2CCC(N3CCN(c4ccccc4Cl)CC3)CC2)N=N1', 'C#CCCC1(CCC(=O)N[C@@H]2CCCC[C@H]2NS(=O)(=O)C2CC2)N=N1', 'C#CCCC1(CCC(=O)NCCNS(=O)(=O)c2ccn(C)c2)N=N1', 'C#CCCC1(CCC(=O)N2CCC(C(O)c3cccc(OC)c3)CC2)N=N1', 'C#CCCC1(CCNC(=O)[C@@H]2C[C@H]2c2nn(C)c3ccccc23)N=N1', 'C#CCCC1(CCNC(=O)c2ccc(-n3cnc4ccccc4c3=O)cc2)N=N1', 'C#CCCC1(CCNC(=O)c2c(-c3ccccc3)nc3sccn23)N=N1', 'C#CCCC1(CCC(=O)Nc2cccc(C(O)CC(F)(F)F)c2)N=N1', 'C#CCCC1(CCNC(=O)CN2CCCC3(CC3)S2(=O)=O)N=N1', 'C#CCCC1(CCC(=O)N2C[C@@H](O)[C@H](Oc3cccc4c3CCC4)C2)N=N1', 'C#CCCC1(CCC(=O)NCC(O)c2cncs2)N=N1', 'C#CCCC1(CCC(=O)N2CCCC2CN2CCC(C)CC2)N=N1', 'C#CCCC1(CCNC(=O)C(C)S(=O)(=O)C2CCOCC2)N=N1', 'C#CCCC1(CCNC(=O)Cn2nc(C(F)F)c3c2CCC3)N=N1', 'C#CCCC1(CCNC(=O)c2cncc(COC)c2)N=N1', 'C#CCCC1(CCC(=O)N2CCC(C#N)(CCC=C)CC2)N=N1', 'C#CCCC1(CCNC(=O)c2ccc(C3(OC)COC3)cc2)N=N1', 'C#CCCC1(CCC(=O)N2CC(N3CCCC3)CC2C(C)C)N=N1', 'C#CCCC1(CCC(=O)N2CC3CN(C)C(c4ccccc4)C3C2)N=N1', 'C#CCCC1(CCC(=O)N2C3CCCC2CC2(C3)NC(=O)NC2=O)N=N1', 'C#CCCC1(CCNC(=O)c2c[nH]cc2-c2ccc(Cl)s2)N=N1', 'C#CCCC1(CCC(=O)NC(c2ccccn2)c2ccccc2OC)N=N1', 'C#CCCC1(CCC(=O)NCc2cc(C(F)(F)F)ccc2N2CCN(C)CC2)N=N1', 'C#CCCC1(CCNC(=O)c2csc(-c3cn[nH]c3)c2)N=N1', 'C#CCCC1(CCNC(=O)C2C3Cc4c(Cl)cccc4C32)N=N1', 'C#CCCC1(CCC(=O)Nc2nn(Cc3cn(CC)nc3C)cc2Cl)N=N1', 'C#CCCC1(CCC(=O)N2CCOCC2c2nc(-c3cccs3)no2)N=N1', 'C#CCCC1(CCC(=O)NCCc2cn3c(n2)CCC3)N=N1', 'C#CCCC1(CCC(=O)N2CCC(c3ccc(F)c(F)c3)C2C)N=N1', 'C#CCCC1(CCC(=O)NCc2nn[nH]c2-c2ccnn2C)N=N1', 'C#CCCC1(CCC(=O)Nc2cc(C(=O)N3CCN(C)CC3)ccc2OC)N=N1', 'C#CCCC1(CCNC(=O)[C@H]2C[C@H]2c2nc(C(F)(F)F)no2)N=N1', 'C#CCCC1(CCC(=O)N2CCn3cc(C(F)(F)F)nc3C2C)N=N1', 'C#CCCC1(CCC(=O)Nc2ccc3nnc(-c4ccc(F)cc4)n3c2)N=N1', 'C#CCCC1(CCC(=O)Nc2ccn(Cc3cccc4ccccc34)n2)N=N1', 'C#CCCC1(CCNC(=O)c2nnc(-c3ccccc3OC)[nH]2)N=N1', 'C#CCCC1(CCC(=O)NCCNC(=O)c2cnccn2)N=N1', 'C#CCCC1(CCC(=O)NCCOC2CCS(=O)(=O)CC2)N=N1', 'C#CCCC1(CCC(=O)N2CC(CC)N(C(C)=O)CC2CC)N=N1', 'C#CCCC1(CCNC(=O)C2CN(CC(F)F)C2)N=N1', 'C#CCCC1(CCC(=O)Nc2cc(F)cc(N3C[C@@H](C)O[C@@H](C)C3)c2)N=N1', 'C#CCCC1(CCNC(=O)C23CC(CO)(C2)OC32COC2)N=N1', 'C#CCCC1(CCC(=O)NC(C)c2cnc(C(F)(F)F)s2)N=N1', 'C#CCCC1(CCC(=O)N2CCOC(Cn3cncn3)C2)N=N1', 'C#CCCC1(CCNC(=O)c2ccc(C)c(C)c2-n2cnnn2)N=N1', 'C#CCCC1(CCC(=O)NC2CC3CCC2N(C)C3)N=N1', 'C#CCCC1(CCNC(=O)C(C)Cc2ccc3c(c2)OCO3)N=N1', 'C#CCCC1(CCNC(=O)[C@@H]2C[C@]23CCOc2ccc(Cl)cc23)N=N1', 'C#CCCC1(CCC(=O)Nc2ccc3c(c2)CN(c2ccccc2)C3)N=N1', 'C#CCCC1(CCC(=O)NC(C)c2c(OC)nsc2OC)N=N1', 'C#CCCC1(CCC(=O)N2CC(C(F)(F)F)CCC23CC3)N=N1', 'C#CCCC1(CCC(=O)N2CCc3c(CN4CCCC4)cccc32)N=N1', 'C#CCCC1(CCNC(=O)C2CN3CC4CC3(CO2)C4)N=N1', 'C#CCCC1(CCNC(=O)c2cn(-c3cccnc3)nc2C2CCOCC2)N=N1', 'C#CCCC1(CCC(=O)N2CCCC(c3n[nH]cc3NS(C)(=O)=O)C2)N=N1', 'C#CCCC1(CCNC(=O)C2CCCN2S(=O)(=O)c2sc(=O)[nH]c2C)N=N1', 'C#CCCC1(CCC(=O)N2CCC3(CC2)CC(O)c2nn(C)cc2O3)N=N1', 'C#CCCC1(CCNC(=O)c2sc3ncccc3c2Cl)N=N1', 'C#CCCC1(CCC(=O)NC2C(=O)Nc3ccc(C(C)C)cc32)N=N1', 'C#CCCC1(CCC(=O)N[C@@H]2COC[C@@H]2Oc2cn[nH]c2)N=N1', 'C#CCCC1(CCC(=O)N2CC3CC2CC3(O)C(F)(F)F)N=N1', 'C#CCCC1(CCNC(=O)c2nc(OC(C)C)ccc2Cl)N=N1', 'C#CCCC1(CCNC(=O)C2CN(C(=O)Nc3cc(Cl)ccc3OC)C2)N=N1', 'C#CCCC1(CCNC(=O)c2cc3cccc(OC(F)F)c3o2)N=N1', 'C#CCCC1(CCNC(=O)C23CCN(CC2)S(=O)(=O)C3)N=N1', 'C#CCCC1(CCC(=O)NCCc2cc(C(F)(F)F)co2)N=N1', 'C#CCCC1(CCNC(=O)c2nn(C)c3nc(-c4cn(C)nc4C)ccc23)N=N1', 'C#CCCC1(CCC(=O)NC2CCN(C3CCCCC3)C2=O)N=N1', 'C#CCCC1(CCNC(=O)C(C)N2C(=O)C3CC=CCC3C2=O)N=N1', 'C#CCCC1(CCC(=O)NC2C3CC4CC2CC(NC(C)=O)(C4)C3)N=N1', 'C#CCCC1(CCC(=O)NC(C)Cc2ccc(S(N)(=O)=O)cc2)N=N1', 'C#CCCC1(CCNC(=O)C2CCC3CC(=O)NC3C2)N=N1', 'C#CCCC1(CCC(=O)N2Cc3nc(C)nc(O)c3C2)N=N1', 'C#CCCC1(CCNC(=O)C2C3CCN(CC3)S2(=O)=O)N=N1', 'C#CCCC1(CCNC(=O)c2cccc3c2C(C)(C)C(C)=N3)N=N1', 'C#CCCC1(CCNC(=O)CS(=O)(=O)c2ccccc2Cl)N=N1', 'C#CCCC1(CCNC(=O)Cc2cc(S(N)(=O)=O)cn2C)N=N1', 'C#CCCC1(CCC(=O)NCc2csc(CNC(C)=O)n2)N=N1', 'C#CCCC1(CCNC(=O)C2CCC(OC(F)(F)F)CC2)N=N1', 'C#CCCC1(CCNC(=O)C2C3CC2(c2ccccc2C)CO3)N=N1', 'C#CCCC1(CCNC(=O)C2CCN(S(=O)(=O)c3cnn(CC)c3)CC2)N=N1', 'C#CCCC1(CCC(=O)N2CC(N3CC(c4nc(C5CC5)no4)CC3=O)C2)N=N1', 'C#CCCC1(CCNC(=O)C2CCN(c3ccc(C)cc3)C2=O)N=N1', 'C#CCCC1(CCC(=O)NCC2(O)CC(OCC)C2(C)C)N=N1', 'C#CCCC1(CCNC(=O)c2sc(-c3nnc[nH]3)nc2C(C)C)N=N1', 'C#CCCC1(CCC(=O)N2CCCn3c(cc4ccccc43)C2)N=N1', 'C#CCCC1(CCNC(=O)c2ccoc2C2(O)CCOCC2)N=N1', 'C#CCCC1(CCC(=O)Nc2cn(CC(F)F)nc2OC)N=N1', 'C#CCCC1(CCNC(=O)COC2CCN(C)CC2)N=N1', 'C#CCCC1(CCNC(=O)c2ncoc2-c2ccc(C)cc2)N=N1', 'C#CCCC1(CCNC(=O)CNC(=O)c2cc(F)cc(F)c2)N=N1', 'C#CCCC1(CCNC(=O)Cc2cc(Cl)cc3c2OCC3)N=N1', 'C#CCCC1(CCC(=O)N2CC(OCc3ccccc3F)C2)N=N1', 'C#CCCC1(CCNC(=O)c2cc3c(C(F)(F)F)cc(=O)[nH]c3o2)N=N1', 'C#CCCC1(CCC(=O)NC2(C(N)=O)CC(C(F)F)C2)N=N1', 'C#CCCC1(CCC(=O)NC(C)(C)c2cc(C(F)F)on2)N=N1', 'C#CCCC1(CCNC(=O)c2ccc3cnc(C4CC4)n3c2C)N=N1', 'C#CCCC1(CCC(=O)N2CC3CC2C3c2ocnc2C(N)=O)N=N1', 'C#CCCC1(CCC(=O)Nc2cc(-n3ccnn3)ccc2F)N=N1', 'C#CCCC1(CCC(=O)N2CC(OC)(c3cnnn3C)C2)N=N1', 'C#CCCC1(CCC(=O)N2CCOC3(C2)C2CC4CC(C2)CC3C4)N=N1', 'C#CCCC1(CCNC(=O)c2cnc3ccc(OC)cc3c2C(F)(F)F)N=N1', 'C#CCCC1(CCC(=O)Nc2ccc3c(c2)C=CC2(CCC2)O3)N=N1', 'C#CCCC1(CCNC(=O)CCc2c[nH]c3cccc(C)c23)N=N1', 'C#CCCC1(CCNC(=O)[C@H]2CC[C@@H](CN(C)C)O2)N=N1', 'C#CCCC1(CCC(=O)NC(C)c2ccc(N3CC(C)CS3(=O)=O)cc2)N=N1', 'C#CCCC1(CCC(=O)NC2CCc3c(nc(C)n3CCO)C2)N=N1', 'C#CCCC1(CCNC(=O)C(C)(C)Cc2cnn[nH]2)N=N1', 'C#CCCC1(CCNC(=O)CN2C(=O)NC(C)(c3ccc(C)cc3)C2=O)N=N1', 'C#CCCC1(CCNC(=O)C(c2cncn2C)N(C)C)N=N1', 'C#CCCC1(CCC(=O)N2CCCC(c3[nH]ncc3CN3CCOCC3)C2)N=N1', 'C#CCCC1(CCNC(=O)C2CC3(C)CCCN3S2(=O)=O)N=N1', 'C#CCCC1(CCNC(=O)Cc2ccc(-n3cccc3)cc2)N=N1', 'C#CCCC1(CCC(=O)Nc2ccc(F)cc2Cn2ccsc2=O)N=N1', 'C#CCCC1(CCNC(=O)c2cc(-c3cc(F)ccc3F)on2)N=N1', 'C#CCCC1(CCC(=O)NCc2ccc(N(C)C(=O)c3ccncc3)cc2)N=N1', 'C#CCCC1(CCC(=O)NC(CN(C)C)c2ccco2)N=N1', 'C#CCCC1(CCNC(=O)c2ccnc(OC3CCOC3)c2)N=N1', 'C#CCCC1(CCNC(=O)COc2ccc3c(C)c(C)c(=O)oc3c2C)N=N1', 'C#CCCC1(CCC(=O)NC(CC(C)C)c2nc[nH]n2)N=N1', 'C#CCCC1(CCC(=O)NC2CC3CCC2(C(F)(F)F)C3)N=N1', 'C#CCCC1(CCC(=O)N2CCN3CCCCC2C3)N=N1', 'C#CCCC1(CCC(=O)Nc2cc(C)n(Cn3nc(C(F)(F)F)cc3C)n2)N=N1', 'C#CCCC1(CCC(=O)NC2CN(CC)CC2(C)C)N=N1', 'C#CCCC1(CCC(=O)N[C@H]2C[C@H](C)S(=O)(=O)c3sccc32)N=N1', 'C#CCCC1(CCNC(=O)[C@H]2OCCO[C@H]2C(F)(F)F)N=N1', 'C#CCCC1(CCC(=O)NC(C(=O)Nc2cc[nH]n2)c2ccccc2)N=N1', 'C#CCCC1(CCC(=O)NCc2cccc3nsnc23)N=N1', 'C#CCCC1(CCC(=O)NC2CCc3n[nH]c(=O)cc3C2)N=N1', 'C#CCCC1(CCC(=O)NCc2cccc(N3C(=O)NC4(CCCC4)C3=O)c2)N=N1', 'C#CCCC1(CCC(=O)N2[C@H](C(=O)N(C)C)C[C@@H]3OCC[C@@H]32)N=N1', 'C#CCCC1(CCNC(=O)c2cnc(Oc3ccccc3)cn2)N=N1', 'C#CCCC1(CCC(=O)NC2CC(=O)N(CC(F)(F)F)C2)N=N1', 'C#CCCC1(CCNC(=O)C2CCCc3cc(C#N)ccc32)N=N1', 'C#CCCC1(CCNC(=O)c2cc(C3CC3)nc3c(Cl)cnn23)N=N1', 'C#CCCC1(CCC(=O)NCC2CCCN(CC#N)C2)N=N1', 'C#CCCC1(CCNC(=O)Cc2sc(-c3ccn[nH]3)nc2C)N=N1', 'C#CCCC1(CCC(=O)Nc2ccccc2Oc2cccc(C#N)c2)N=N1', 'C#CCCC1(CCNC(=O)C2(c3cccnc3)CC(F)(F)C2)N=N1', 'C#CCCC1(CCC(=O)NC[C@H]2OCC(=O)N(CC)[C@@H]2c2nccn2C)N=N1', 'C#CCCC1(CCC(=O)N2CCN(C(C)c3nc(C(C)C)no3)CC2)N=N1', 'C#CCCC1(CCNC(=O)Cc2nc(C(C)C)c(C)s2)N=N1', 'C#CCCC1(CCC(=O)N2CCC3(CN(Cc4ccccc4)CC(C)O3)C2)N=N1', 'C#CCCC1(CCC(=O)NC(CO)c2cc(F)c(F)c(F)c2)N=N1', 'C#CCCC1(CCC(=O)NCC(=O)NCC2CC3CCC(C2)N3C)N=N1', 'C#CCCC1(CCNC(=O)c2cccc(S(=O)(=O)N3CCNC(=O)C3)c2)N=N1', 'C#CCCC1(CCC(=O)N2C[C@H]3[C@](C(F)(F)F)(CCS3(=O)=O)C2)N=N1', 'C#CCCC1(CCNC(=O)c2ccccc2N(C)C(=O)c2scnc2C)N=N1', 'C#CCCC1(CCNC(=O)c2ccnc3nccnc23)N=N1', 'C#CCCC1(CCNC(=O)c2csc3cncn23)N=N1', 'C#CCCC1(CCC(=O)NC(C)c2cnn(-c3ccc(C#N)cc3)c2C)N=N1', 'C#CCCC1(CCNC(=O)c2cc(-c3ccc4c(c3)CCO4)no2)N=N1', 'C#CCCC1(CCC(=O)NCC23CC4CC(C2)CC(OC)(C4)C3)N=N1', 'C#CCCC1(CCNC(=O)c2nccc3ccn(C)c23)N=N1', 'C#CCCC1(CCC(=O)N(C)C23CC(C(F)(F)F)(C2)C3)N=N1', 'C#CCCC1(CCC(=O)N2CCOC(c3c(Cl)cccc3OC)C2)N=N1', 'C#CCCC1(CCC(=O)N2CCC(O)(c3c[nH]nn3)CC2)N=N1', 'C#CCCC1(CCNC(=O)[C@H]2CN(C(C)(C)C)C[C@@H]2C(F)(F)F)N=N1', 'C#CCCC1(CCC(=O)NC2(CS(C)(=O)=O)COC2)N=N1', 'C#CCCC1(CCNC(=O)CC(C)c2ccncc2)N=N1', 'C#CCCC1(CCNC(=O)c2snnc2-c2ccccc2C)N=N1', 'C#CCCC1(CCC(=O)NC(C2CC2(C)C)C(F)(F)F)N=N1', 'C#CCCC1(CCC(=O)N2Cc3sccc3CC2(C)C)N=N1', 'C#CCCC1(CCC(=O)N2CC3(CCC3)OC3(CCC3)C2)N=N1', 'C#CCCC1(CCNC(=O)c2cnc3sc(Cc4ccccc4)cn3c2=O)N=N1', 'C#CCCC1(CCC(=O)N2CCS(=O)(=O)CC2c2ccc(C)o2)N=N1', 'C#CCCC1(CCC(=O)N2CCc3nnc(N4C[C@H]5CN(C)C[C@H]5C4)cc3C2)N=N1', 'C#CCCC1(CCC(=O)NC(C(=O)N2CCCCC2)C(C)C)N=N1', 'C#CCCC1(CCC(=O)Nc2cc(S(=O)(=O)N(CC)CC)cc(C)c2C)N=N1', 'C#CCCC1(CCC(=O)N2CCc3nc(CCC(C)(C)C)ncc3C2)N=N1', 'C#CCCC1(CCNC(=O)COc2ccc3c(c2)CCCC3)N=N1', 'C#CCCC1(CCNC(=O)c2cc(C)nc3onc(-c4c(C)nn(C)c4C)c23)N=N1', 'C#CCCC1(CCNC(=O)C2C3CCC2(c2cncs2)C3)N=N1', 'C#CCCC1(CCC(=O)NC(c2ccc3c(c2)OCCO3)C2CC2)N=N1', 'C#CCCC1(CCC(=O)Nc2cccc3oc(C(F)(F)F)nc23)N=N1', 'C#CCCC1(CCC(=O)NCc2cnn(CCO)c2)N=N1', 'C#CCCC1(CCNC(=O)C2CS(=O)C3c4ccccc4C(=O)N23)N=N1', 'C#CCCC1(CCC(=O)NCC(=O)N2CCN(c3ccc(Cl)cc3)CC2)N=N1', 'C#CCCC1(CCNC(=O)c2cnc3n2C(C)CCC3)N=N1', 'C#CCCC1(CCC(=O)N(CC)c2cc(C)ccc2OC)N=N1', 'C#CCCC1(CCNC(=O)c2cc(OC)nn2-c2ncccc2Cl)N=N1', 'C#CCCC1(CCNC(=O)c2ccc(-c3noc(=O)[nH]3)cc2)N=N1', 'C#CCCC1(CCNC(=O)c2cccc(-c3cnc4[nH]c(=O)n(C)c4c3)c2)N=N1', 'C#CCCC1(CCC(=O)N2CCCC3CCC(F)(F)CC32)N=N1', 'C#CCCC1(CCC(=O)NC(C)Cn2cnc3c(cnn3C)c2=O)N=N1', 'C#CCCC1(CCC(=O)N2CCC3(CCOCC3)C23CC3)N=N1', 'C#CCCC1(CCC(=O)NC[C@H]2C[C@@H](OC)CN2c2cc(C)ncn2)N=N1', 'C#CCCC1(CCC(=O)N2CCCC23CCCS(=N)(=O)C3)N=N1', 'C#CCCC1(CCNC(=O)c2cc(NC(=O)C(C)C)c(F)cc2F)N=N1', 'C#CCCC1(CCNC(=O)c2cn3ccnc3s2)N=N1', 'C#CCCC1(CCC(=O)N2CC3(CC(S(C)(=O)=O)C3)C2)N=N1', 'C#CCCC1(CCNC(=O)c2ccc(Cc3ccccc3)[nH]2)N=N1', 'C#CCCC1(CCC(=O)NC2C3Cc4cc(Cl)ccc4C32)N=N1', 'C#CCCC1(CCNC(=O)c2cc(S(=O)(=O)NC)cs2)N=N1', 'C#CCCC1(CCNC(=O)c2ncnn3cccc23)N=N1', 'C#CCCC1(CCNC(=O)C(c2ccccc2)n2sc3ccccc3c2=O)N=N1', 'C#CCCC1(CCC(=O)NCc2cnn3ccn(C)c(=O)c23)N=N1', 'C#CCCC1(CCC(=O)NC(C)c2oc3c(OC)cc(C)cc3c2C)N=N1', 'C#CCCC1(CCC(=O)Nc2ccc(Cl)c(-n3nnnc3C3CC3)c2)N=N1', 'C#CCCC1(CCC(=O)NC2CCN(CCC=C)CC2)N=N1', 'C#CCCC1(CCC(=O)NCc2ccc(C3(C(F)(F)F)N=N3)cc2)N=N1', 'C#CCCC1(CCC(=O)NCC2(N3CCN(C(C)C)CC3)CCCC2)N=N1', 'C#CCCC1(CCC(=O)NCc2cc(Cl)cc(S(=O)(=O)CC)c2)N=N1', 'C#CCCC1(CCNC(=O)C2CCN(Cc3ccccc3)CC2(F)F)N=N1', 'C#CCCC1(CCC(=O)N2CC(c3n[nH]c4c3COCC4)C2)N=N1', 'C#CCCC1(CCC(=O)N2CCCN(CC(=O)NCC)CC2)N=N1', 'C#CCCC1(CCNC(=O)c2sc(C3CC3)nc2C2CC2)N=N1', 'C#CCCC1(CCC(=O)NCC(C)(O)C2CCC(C(C)C)CC2)N=N1', 'C#CCCC1(CCNC(=O)C2CCc3nnn(C4CCCC4)c3C2)N=N1', 'C#CCCC1(CCC(=O)NC2CC3CCC(C2)N3S(C)(=O)=O)N=N1', 'C#CCCC1(CCC(=O)NCc2cn(-c3ccccc3)nc2C(C)C)N=N1', 'C#CCCC1(CCC(=O)N2C[C@@H](C)N(CC)[C@@H](C)C2)N=N1', 'C#CCCC1(CCNC(=O)C2CN3CCCN2CC3)N=N1', 'C#CCCC1(CCC(=O)N2CCC3(CC2)CC3c2nnc(-c3cccc(F)c3)o2)N=N1', 'C#CCCC1(CCC(=O)N2Cc3c[nH]nc3C(c3n[nH]c(CC)n3)C2)N=N1', 'C#CCCC1(CCC(=O)N(C)C2(c3cccc(Cl)c3)CC2)N=N1', 'C#CCCC1(CCC(=O)NC(Cn2cnc3ccccc32)c2ccc(F)cc2)N=N1', 'C#CCCC1(CCC(=O)Nc2cccc(OCc3cscn3)c2)N=N1', 'C#CCCC1(CCC(=O)N2CCCC(C#N)(c3ccccn3)C2)N=N1', 'C#CCCC1(CCNC(=O)C(C)Cn2ccc3ccccc32)N=N1', 'C#CCCC1(CCNC(=O)c2sc(CC(F)(F)F)nc2C)N=N1', 'C#CCCC1(CCNC(=O)C(C)(C)Oc2ccc(Cl)cc2)N=N1', 'C#CCCC1(CCC(=O)N2CCCC2c2c(OC)n(C)c3ccccc23)N=N1', 'C#CCCC1(CCC(=O)NCCN2CCS(=O)CC2)N=N1']\n"
     ]
    },
    {
     "name": "stderr",
     "output_type": "stream",
     "text": [
      "100%|██████████| 407/407 [00:03<00:00, 117.95it/s]"
     ]
    },
    {
     "name": "stdout",
     "output_type": "stream",
     "text": [
      "[[ 1.723    1.947   -0.2703  ...  0.4717  -0.269   -0.198  ]\n",
      " [-0.1489  -0.2766  -0.0764  ...  0.793   -0.1729   0.9316 ]\n",
      " [-0.163   -0.2305   1.099   ... -0.2356  -0.2478  -0.2695 ]\n",
      " ...\n",
      " [-0.13     0.3564   2.34    ...  1.66    -0.2764   0.3894 ]\n",
      " [-0.1133  -0.2778  -0.03015 ...  0.7607  -0.2712   0.3013 ]\n",
      " [ 2.9      0.61    -0.2397  ...  0.512   -0.2097   0.635  ]]\n"
     ]
    },
    {
     "name": "stderr",
     "output_type": "stream",
     "text": [
      "\n"
     ]
    },
    {
     "data": {
      "text/plain": [
       "['../data/cemm_emb.joblib']"
      ]
     },
     "execution_count": 3,
     "metadata": {},
     "output_type": "execute_result"
    }
   ],
   "source": [
    "fid2smi = pd.read_csv(os.path.join(DATA_PATH, \"cemm_smiles.csv\"))\n",
    "\n",
    "fe = FragmentEmbedder()\n",
    "\n",
    "print(list(fid2smi[\"smiles\"]))\n",
    "\n",
    "X = fe.transform(list(fid2smi[\"smiles\"]))\n",
    "print(X)\n",
    "\n",
    "joblib.dump(\n",
    "    (list(fid2smi[\"fid\"]), list(fid2smi[\"smiles\"]), X),\n",
    "    os.path.join(DATA_PATH, \"cemm_emb.joblib\"),\n",
    ")"
   ]
  },
  {
   "cell_type": "markdown",
   "metadata": {},
   "source": [
    "## Embeddings for Enamine Stock Fragments"
   ]
  },
  {
   "cell_type": "code",
   "execution_count": 4,
   "metadata": {},
   "outputs": [
    {
     "name": "stderr",
     "output_type": "stream",
     "text": [
      "/Users/mduranfrigola/miniconda3/envs/onthefly/lib/python3.10/site-packages/sklearn/base.py:318: UserWarning: Trying to unpickle estimator VarianceThreshold from version 0.23.2 when using version 1.2.2. This might lead to breaking code or invalid results. Use at your own risk. For more info please refer to:\n",
      "https://scikit-learn.org/stable/model_persistence.html#security-maintainability-limitations\n",
      "  warnings.warn(\n"
     ]
    },
    {
     "name": "stdout",
     "output_type": "stream",
     "text": [
      "(5663, 2)\n"
     ]
    },
    {
     "name": "stderr",
     "output_type": "stream",
     "text": [
      "100%|██████████| 1024/1024 [00:08<00:00, 124.64it/s]\n",
      "100%|██████████| 1024/1024 [00:08<00:00, 119.99it/s]\n",
      "100%|██████████| 1024/1024 [00:08<00:00, 119.35it/s]\n",
      "100%|██████████| 1024/1024 [00:08<00:00, 116.51it/s]\n",
      "100%|██████████| 1024/1024 [00:09<00:00, 113.13it/s]\n",
      "100%|██████████| 543/543 [00:04<00:00, 119.28it/s]\n"
     ]
    },
    {
     "data": {
      "text/plain": [
       "['../data/enamine_stock_emb.joblib']"
      ]
     },
     "execution_count": 4,
     "metadata": {},
     "output_type": "execute_result"
    }
   ],
   "source": [
    "df = pd.read_csv(os.path.join(DATA_PATH, \"enamine_stock.csv\"))\n",
    "df = df[~df[\"smiles\"].isin(fid2smi[\"smiles\"])]\n",
    "print(df.shape)\n",
    "\n",
    "fe = FragmentEmbedder()\n",
    "\n",
    "X = fe.transform(list(df[\"smiles\"]))\n",
    "\n",
    "joblib.dump(\n",
    "    (list(df[\"catalog_id\"]), list(df[\"smiles\"]), X),\n",
    "    os.path.join(DATA_PATH, \"enamine_stock_emb.joblib\"),\n",
    ")"
   ]
  },
  {
   "cell_type": "markdown",
   "metadata": {},
   "source": [
    "## Morgan Fingerprints for CeMM fragments"
   ]
  },
  {
   "cell_type": "code",
   "execution_count": 5,
   "metadata": {},
   "outputs": [
    {
     "data": {
      "text/plain": [
       "['../data/cemm_morgan.joblib']"
      ]
     },
     "execution_count": 5,
     "metadata": {},
     "output_type": "execute_result"
    }
   ],
   "source": [
    "from rdkit import Chem\n",
    "from rdkit.Chem import AllChem\n",
    "\n",
    "R = []\n",
    "for smi in list(fid2smi[\"smiles\"]):\n",
    "    mol = Chem.MolFromSmiles(smi)\n",
    "    fp = AllChem.GetMorganFingerprintAsBitVect(mol, 2, nBits=1024)\n",
    "    R += [fp]\n",
    "\n",
    "X = np.array(R, dtype=int)\n",
    "\n",
    "joblib.dump(\n",
    "    (list(fid2smi[\"fid\"]), list(fid2smi[\"smiles\"]), X),\n",
    "    os.path.join(DATA_PATH, \"cemm_morgan.joblib\"),\n",
    ")"
   ]
  },
  {
   "cell_type": "markdown",
   "metadata": {},
   "source": [
    "# Protein name mapping"
   ]
  },
  {
   "cell_type": "code",
   "execution_count": 3,
   "metadata": {},
   "outputs": [],
   "source": [
    "df = pd.read_csv(\"../data/pid2name_primary.tsv\", sep=\"\\t\", header=None)\n",
    "df.columns = [\"uniprot_ac\", \"gene_name\"]"
   ]
  },
  {
   "cell_type": "markdown",
   "metadata": {},
   "source": [
    "# Protein screening similarity maps"
   ]
  },
  {
   "cell_type": "code",
   "execution_count": 4,
   "metadata": {},
   "outputs": [],
   "source": [
    "import joblib\n",
    "import collections\n",
    "import pandas as pd\n",
    "from sklearn.feature_extraction.text import TfidfVectorizer\n",
    "from sklearn.metrics.pairwise import cosine_similarity\n",
    "\n",
    "hits, fid_prom, pid_prom = joblib.load(\"../data/hits.joblib\")"
   ]
  },
  {
   "cell_type": "code",
   "execution_count": 5,
   "metadata": {},
   "outputs": [],
   "source": [
    "pid_docs = collections.defaultdict(list)\n",
    "for k, v in hits.items():\n",
    "    pid_docs[k[0]] += [k[1]]\n",
    "pid_docs = dict((k, \" \".join(v)) for k, v in pid_docs.items())\n",
    "\n",
    "pids = sorted(pid_docs.keys())\n",
    "pid_docs = [pid_docs[k] for k in pids]\n",
    "\n",
    "X = TfidfVectorizer().fit_transform(pid_docs).toarray()"
   ]
  },
  {
   "cell_type": "code",
   "execution_count": 6,
   "metadata": {},
   "outputs": [
    {
     "data": {
      "text/plain": [
       "['../data/protein_protein_hit_cosines.joblib']"
      ]
     },
     "execution_count": 6,
     "metadata": {},
     "output_type": "execute_result"
    }
   ],
   "source": [
    "similarities = cosine_similarity(X, X)\n",
    "\n",
    "file_name = \"../data/protein_protein_hit_cosines.joblib\"\n",
    "joblib.dump((pids, similarities), file_name)"
   ]
  },
  {
   "cell_type": "code",
   "execution_count": 10,
   "metadata": {},
   "outputs": [],
   "source": [
    "import pandas as pd\n",
    "import os\n",
    "\n",
    "df = pd.read_csv(\"../data/cemm_interest_protein_class.tsv\", header=None, sep=\"\\t\")\n",
    "df.columns = [\"uniprot_ac\", \"family\"]\n",
    "df = df[df[\"family\"] == \"SLC\"]\n",
    "slcs = sorted(set(df[\"uniprot_ac\"]))\n",
    "\n",
    "with open(\"../data/examples/slc_cemm_interest.txt\", \"w\") as f:\n",
    "    for r in slcs:\n",
    "        f.write(r + os.linesep)"
   ]
  }
 ],
 "metadata": {
  "kernelspec": {
   "display_name": "bdfigs",
   "language": "python",
   "name": "python3"
  },
  "language_info": {
   "codemirror_mode": {
    "name": "ipython",
    "version": 3
   },
   "file_extension": ".py",
   "mimetype": "text/x-python",
   "name": "python",
   "nbconvert_exporter": "python",
   "pygments_lexer": "ipython3",
   "version": "3.10.13"
  },
  "orig_nbformat": 4
 },
 "nbformat": 4,
 "nbformat_minor": 2
}
